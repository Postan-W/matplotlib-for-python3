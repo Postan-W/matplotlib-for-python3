{
 "cells": [
  {
   "cell_type": "code",
   "execution_count": null,
   "metadata": {
    "collapsed": true
   },
   "outputs": [],
   "source": [
    "# 通过在一个画板上绘制一元一次函数和一元二次函数展示matplotlib的使用方法。当然，有的效果可以通过多种方式完成，\n",
    "#同一个对象或者函数可能也有好几种使用方法。这里任选一种，不赘述。"
   ]
  },
  {
   "cell_type": "code",
   "execution_count": 201,
   "metadata": {
    "collapsed": true
   },
   "outputs": [],
   "source": [
    "#导入numpy\n",
    "import numpy as np"
   ]
  },
  {
   "cell_type": "code",
   "execution_count": 223,
   "metadata": {
    "collapsed": true
   },
   "outputs": [],
   "source": [
    "#导入matplotlib\n",
    "from matplotlib import pyplot as plt"
   ]
  },
  {
   "cell_type": "code",
   "execution_count": 224,
   "metadata": {
    "collapsed": true
   },
   "outputs": [],
   "source": [
    "#定义一个范围为-5到5的自变量。50个点，点越多图像越平滑\n",
    "x = np.linspace(-5,5,50)"
   ]
  },
  {
   "cell_type": "code",
   "execution_count": 225,
   "metadata": {},
   "outputs": [],
   "source": [
    "#定义直线\n",
    "y1 = 2*x + 3"
   ]
  },
  {
   "cell_type": "code",
   "execution_count": 226,
   "metadata": {
    "collapsed": true
   },
   "outputs": [],
   "source": [
    "#定义二次函数\n",
    "y2 = 3*x*x + x + 1"
   ]
  },
  {
   "cell_type": "code",
   "execution_count": 227,
   "metadata": {},
   "outputs": [
    {
     "data": {
      "text/plain": [
       "([<matplotlib.axis.XTick at 0x2bf39987978>,\n",
       "  <matplotlib.axis.XTick at 0x2bf3afebd68>,\n",
       "  <matplotlib.axis.XTick at 0x2bf3af0a438>,\n",
       "  <matplotlib.axis.XTick at 0x2bf3b0a9048>,\n",
       "  <matplotlib.axis.XTick at 0x2bf3b0a9c18>,\n",
       "  <matplotlib.axis.XTick at 0x2bf3aeb0630>,\n",
       "  <matplotlib.axis.XTick at 0x2bf3aebb048>,\n",
       "  <matplotlib.axis.XTick at 0x2bf3aebba20>,\n",
       "  <matplotlib.axis.XTick at 0x2bf3aec4438>,\n",
       "  <matplotlib.axis.XTick at 0x2bf3aec4e10>],\n",
       " <a list of 10 Text xticklabel objects>)"
      ]
     },
     "execution_count": 227,
     "metadata": {},
     "output_type": "execute_result"
    }
   ],
   "source": [
    "#定义x轴的刻度\n",
    "plt.xticks(np.linspace(-5,5,10))"
   ]
  },
  {
   "cell_type": "code",
   "execution_count": 228,
   "metadata": {},
   "outputs": [
    {
     "data": {
      "text/plain": [
       "([<matplotlib.axis.YTick at 0x2bf399c9240>,\n",
       "  <matplotlib.axis.YTick at 0x2bf3afbae10>,\n",
       "  <matplotlib.axis.YTick at 0x2bf3b070cc0>,\n",
       "  <matplotlib.axis.YTick at 0x2bf3b030278>,\n",
       "  <matplotlib.axis.YTick at 0x2bf3aefe828>,\n",
       "  <matplotlib.axis.YTick at 0x2bf3af09240>,\n",
       "  <matplotlib.axis.YTick at 0x2bf3af094a8>,\n",
       "  <matplotlib.axis.YTick at 0x2bf3af09e48>,\n",
       "  <matplotlib.axis.YTick at 0x2bf3aef58d0>,\n",
       "  <matplotlib.axis.YTick at 0x2bf3af05278>],\n",
       " <a list of 10 Text yticklabel objects>)"
      ]
     },
     "execution_count": 228,
     "metadata": {},
     "output_type": "execute_result"
    }
   ],
   "source": [
    "#定义y轴的刻度\n",
    "plt.yticks(np.linspace(0,100,10))"
   ]
  },
  {
   "cell_type": "code",
   "execution_count": 229,
   "metadata": {
    "collapsed": true
   },
   "outputs": [],
   "source": [
    "#获取方框的四个边（get current axes）\n",
    "axes = plt.gca()"
   ]
  },
  {
   "cell_type": "code",
   "execution_count": 230,
   "metadata": {},
   "outputs": [],
   "source": [
    "#将右边隐藏\n",
    "axes.spines[\"right\"].set_color(\"none\")"
   ]
  },
  {
   "cell_type": "code",
   "execution_count": 231,
   "metadata": {},
   "outputs": [],
   "source": [
    "#将上边隐藏\n",
    "axes.spines[\"top\"].set_color(\"none\")"
   ]
  },
  {
   "cell_type": "code",
   "execution_count": 232,
   "metadata": {
    "collapsed": true
   },
   "outputs": [],
   "source": [
    "#将x轴的刻度定义在底边上\n",
    "axes.xaxis.set_ticks_position(\"bottom\")"
   ]
  },
  {
   "cell_type": "code",
   "execution_count": 233,
   "metadata": {
    "collapsed": true
   },
   "outputs": [],
   "source": [
    "#将y轴刻度定义在左边上\n",
    "axes.yaxis.set_ticks_position(\"left\")"
   ]
  },
  {
   "cell_type": "code",
   "execution_count": 234,
   "metadata": {
    "collapsed": true
   },
   "outputs": [],
   "source": [
    "#移动底边和左边，使它们相交于（0,0）点，这样看起来舒服些\n",
    "axes.spines[\"bottom\"].set_position(('data',0))\n",
    "axes.spines[\"left\"].set_position(('data',0))"
   ]
  },
  {
   "cell_type": "code",
   "execution_count": 235,
   "metadata": {
    "collapsed": true
   },
   "outputs": [],
   "source": [
    "#生成关于x和y1的对象，并给个标记\n",
    "line = plt.plot(x,y1,label=\"linear\")"
   ]
  },
  {
   "cell_type": "code",
   "execution_count": 236,
   "metadata": {
    "collapsed": true
   },
   "outputs": [],
   "source": [
    "#生成关于x和y2的对象，并给个标记\n",
    "quadratic = plt.plot(x,y2,label=\"quadratic\")"
   ]
  },
  {
   "cell_type": "code",
   "execution_count": 237,
   "metadata": {},
   "outputs": [
    {
     "data": {
      "text/plain": [
       "<matplotlib.legend.Legend at 0x2bf3aef5b70>"
      ]
     },
     "execution_count": 237,
     "metadata": {},
     "output_type": "execute_result"
    }
   ],
   "source": [
    "#legend相当于图解\n",
    "plt.legend(loc=\"best\")"
   ]
  },
  {
   "cell_type": "code",
   "execution_count": 238,
   "metadata": {
    "scrolled": true
   },
   "outputs": [
    {
     "data": {
      "image/png": "[encoded data removed]",
      "text/plain": [
       "<matplotlib.figure.Figure at 0x2bf391d9f98>"
      ]
     },
     "metadata": {},
     "output_type": "display_data"
    }
   ],
   "source": [
    "#展示图像\n",
    "plt.show()"
   ]
  },
  {
   "cell_type": "code",
   "execution_count": 239,
   "metadata": {
    "collapsed": true
   },
   "outputs": [],
   "source": [
    "#下面展示在图像上标出一个点"
   ]
  },
  {
   "cell_type": "code",
   "execution_count": 269,
   "metadata": {
    "collapsed": true
   },
   "outputs": [],
   "source": [
    "#把上面所有的操作打包成一个函数，方便以后复用。两个参数都是三个元素的列表\n",
    "def set(x_ticks,y_ticks):\n",
    "    plt.xticks(np.linspace(x_ticks[0],x_ticks[1],x_ticks[2]))\n",
    "    plt.yticks(np.linspace(y_ticks[0],y_ticks[1],y_ticks[2]))\n",
    "    axes = plt.gca()\n",
    "    axes.spines[\"right\"].set_color(\"none\")\n",
    "    axes.spines[\"top\"].set_color(\"none\")\n",
    "    axes.xaxis.set_ticks_position(\"bottom\")\n",
    "    axes.yaxis.set_ticks_position(\"left\")\n",
    "    axes.spines[\"bottom\"].set_position(('data',0))\n",
    "    axes.spines[\"left\"].set_position(('data',0))"
   ]
  },
  {
   "cell_type": "code",
   "execution_count": 270,
   "metadata": {},
   "outputs": [
    {
     "data": {
      "text/plain": [
       "<matplotlib.text.Text at 0x2bf3b2de7f0>"
      ]
     },
     "execution_count": 270,
     "metadata": {},
     "output_type": "execute_result"
    }
   ],
   "source": [
    "h = np.linspace(-5,5,50)\n",
    "v = 3*h + 4\n",
    "plt.plot(h,v)\n",
    "plt.xlabel(\"x\")\n",
    "plt.ylabel(\"y\")"
   ]
  },
  {
   "cell_type": "code",
   "execution_count": 271,
   "metadata": {},
   "outputs": [],
   "source": [
    "set([-5,5,10],[0,50,10])"
   ]
  },
  {
   "cell_type": "code",
   "execution_count": 272,
   "metadata": {},
   "outputs": [],
   "source": [
    "x0 = 4\n",
    "y0 =3*4 + 4"
   ]
  },
  {
   "cell_type": "code",
   "execution_count": 273,
   "metadata": {},
   "outputs": [
    {
     "data": {
      "text/plain": [
       "<matplotlib.collections.PathCollection at 0x2bf3b1b13c8>"
      ]
     },
     "execution_count": 273,
     "metadata": {},
     "output_type": "execute_result"
    }
   ],
   "source": [
    "#画出这个点\n",
    "plt.scatter(x0,y0,s=60,color=\"red\")"
   ]
  },
  {
   "cell_type": "code",
   "execution_count": 274,
   "metadata": {},
   "outputs": [
    {
     "data": {
      "text/plain": [
       "[<matplotlib.lines.Line2D at 0x2bf3b234710>]"
      ]
     },
     "execution_count": 274,
     "metadata": {},
     "output_type": "execute_result"
    }
   ],
   "source": [
    "#上面那个点向x轴做个垂线\n",
    "plt.plot([x0,x0],[y0,0],'k--',lw=2)"
   ]
  },
  {
   "cell_type": "code",
   "execution_count": 275,
   "metadata": {},
   "outputs": [
    {
     "data": {
      "text/plain": [
       "<matplotlib.text.Annotation at 0x2bf3b2b6908>"
      ]
     },
     "execution_count": 275,
     "metadata": {},
     "output_type": "execute_result"
    }
   ],
   "source": [
    "#做个标注.\n",
    "plt.annotate(\"this this this\",xy=(x0,y0),xycoords='data',xytext=(+40,-40),textcoords='offset points',\n",
    "            fontsize=16,arrowprops=dict(arrowstyle=\"->\",connectionstyle='arc3,rad=.2'))"
   ]
  },
  {
   "cell_type": "code",
   "execution_count": 276,
   "metadata": {},
   "outputs": [
    {
     "data": {
      "image/png": "[encoded data removed]",
      "text/plain": [
       "<matplotlib.figure.Figure at 0x2bf3b37ae80>"
      ]
     },
     "metadata": {},
     "output_type": "display_data"
    }
   ],
   "source": [
    "plt.show()"
   ]
  },
  {
   "cell_type": "code",
   "execution_count": null,
   "metadata": {
    "collapsed": true
   },
   "outputs": [],
   "source": []
  }
 ],
 "metadata": {
  "kernelspec": {
   "display_name": "Python 3",
   "language": "python",
   "name": "python3"
  },
  "language_info": {
   "codemirror_mode": {
    "name": "ipython",
    "version": 3
   },
   "file_extension": ".py",
   "mimetype": "text/x-python",
   "name": "python",
   "nbconvert_exporter": "python",
   "pygments_lexer": "ipython3",
   "version": "3.6.2"
  }
 },
 "nbformat": 4,
 "nbformat_minor": 2
}
